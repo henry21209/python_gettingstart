{
 "cells": [
  {
   "cell_type": "code",
   "execution_count": 5,
   "metadata": {},
   "outputs": [
    {
     "name": "stdout",
     "output_type": "stream",
     "text": [
      "身高正常\n",
      "123,您的BMI：24.44\n"
     ]
    }
   ],
   "source": [
    "try:\n",
    "    name:str = input(\"請輸入姓名：\")\n",
    "    height:float = float(input(\"請輸入身高：\"))\n",
    "    if height>=120:\n",
    "        if height<=230:\n",
    "            print(\"身高正常\")\n",
    "    weight:float = float(input(\"請輸入體重：\"))\n",
    "\n",
    "    print(f\"{name},您的BMI：{round(weight/(height/100)**2,ndigits=2)}\") \n",
    "except Exception as e:\n",
    "    print(f\"格式錯誤{e}\")"
   ]
  },
  {
   "cell_type": "code",
   "execution_count": 6,
   "metadata": {},
   "outputs": [
    {
     "name": "stdout",
     "output_type": "stream",
     "text": [
      "身高正常\n",
      "123,您的BMI：46.9\n"
     ]
    }
   ],
   "source": [
    "try:\n",
    "    name:str = input(\"請輸入姓名：\")\n",
    "    height:float = float(input(\"請輸入身高：\"))\n",
    "    if height>=120 and height<=230:\n",
    "            print(\"身高正常\")\n",
    "    weight:float = float(input(\"請輸入體重：\"))\n",
    "\n",
    "    print(f\"{name},您的BMI：{round(weight/(height/100)**2,ndigits=2)}\") \n",
    "except Exception as e:\n",
    "    print(f\"格式錯誤{e}\")"
   ]
  },
  {
   "cell_type": "code",
   "execution_count": 7,
   "metadata": {},
   "outputs": [
    {
     "name": "stdout",
     "output_type": "stream",
     "text": [
      "身高不正常\n",
      "123,您的BMI：0.04\n"
     ]
    }
   ],
   "source": [
    "try:\n",
    "    name:str = input(\"請輸入姓名：\")\n",
    "    height:float = float(input(\"請輸入身高：\"))\n",
    "    if height<120 or height>230:\n",
    "            print(\"身高不正常\")\n",
    "    weight:float = float(input(\"請輸入體重：\"))\n",
    "\n",
    "    print(f\"{name},您的BMI：{round(weight/(height/100)**2,ndigits=2)}\") \n",
    "except Exception as e:\n",
    "    print(f\"格式錯誤{e}\")"
   ]
  },
  {
   "cell_type": "code",
   "execution_count": 10,
   "metadata": {},
   "outputs": [
    {
     "name": "stdout",
     "output_type": "stream",
     "text": [
      "格式錯誤：could not convert string to float: '12a'\n"
     ]
    }
   ],
   "source": [
    "try:\n",
    "    name:str = input(\"請輸入姓名：\")\n",
    "    height:float = float(input(\"請輸入身高：\"))\n",
    "    if height<120 or height>230:\n",
    "            raise Exception(\"身高必須大於120且小於230\")\n",
    "    weight:float = float(input(\"請輸入體重：\"))\n",
    "\n",
    "    print(f\"{name},您的BMI：{round(weight/(height/100)**2,ndigits=2)}\") \n",
    "except Exception as e:\n",
    "    print(f\"錯誤：{e}\")"
   ]
  },
  {
   "cell_type": "code",
   "execution_count": 11,
   "metadata": {},
   "outputs": [
    {
     "name": "stdout",
     "output_type": "stream",
     "text": [
      "錯誤：體重必須大於40且小於140\n"
     ]
    }
   ],
   "source": [
    "try:\n",
    "    name:str = input(\"請輸入姓名：\")\n",
    "    height:float = float(input(\"請輸入身高：\"))\n",
    "    if height<120 or height>230:\n",
    "        raise Exception(\"身高必須大於120且小於230\")\n",
    "    weight:float = float(input(\"請輸入體重：\"))\n",
    "    if weight<40 or weight>140:\n",
    "        raise Exception(\"體重必須大於40且小於140\") \n",
    "\n",
    "    print(f\"{name},您的BMI：{round(weight/(height/100)**2,ndigits=2)}\") \n",
    "except Exception as e:\n",
    "    print(f\"錯誤：{e}\")"
   ]
  }
 ],
 "metadata": {
  "kernelspec": {
   "display_name": "Python 3",
   "language": "python",
   "name": "python3"
  },
  "language_info": {
   "codemirror_mode": {
    "name": "ipython",
    "version": 3
   },
   "file_extension": ".py",
   "mimetype": "text/x-python",
   "name": "python",
   "nbconvert_exporter": "python",
   "pygments_lexer": "ipython3",
   "version": "3.10.14"
  }
 },
 "nbformat": 4,
 "nbformat_minor": 2
}
