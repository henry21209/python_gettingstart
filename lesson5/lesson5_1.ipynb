{
 "cells": [
  {
   "cell_type": "code",
   "execution_count": 5,
   "metadata": {},
   "outputs": [
    {
     "name": "stdout",
     "output_type": "stream",
     "text": [
      "梯形的上底110公分,下底52公分,高142公分\n",
      "梯形的面積：11502.0平方公分\n"
     ]
    }
   ],
   "source": [
    "up = eval(input(\"請輸入梯形的上底：\"))\n",
    "down = eval(input(\"請輸入梯形的下底：\"))\n",
    "height = eval(input(\"請輸入梯形的高：\"))\n",
    "\n",
    "print(f\"梯形的上底{up}公分,下底{down}公分,高{height}公分\")\n",
    "print(f\"梯形的面積：{(round((up + down) * height / 2, ndigits=2))}平方公分\")"
   ]
  },
  {
   "cell_type": "code",
   "execution_count": 6,
   "metadata": {},
   "outputs": [
    {
     "name": "stdout",
     "output_type": "stream",
     "text": [
      "此人大於18歲\n",
      "可以考駕照\n",
      "有投票權\n",
      "程式結束\n"
     ]
    }
   ],
   "source": [
    "age:int = 20\n",
    "if age>=18:\n",
    "    print(\"此人大於18歲\")\n",
    "    print(\"可以考駕照\")\n",
    "    print(\"有投票權\")\n",
    "print(\"程式結束\")\n"
   ]
  },
  {
   "cell_type": "markdown",
   "metadata": {},
   "source": [
    "- 輸入學生分數，總分為300分\n",
    "- 由您決定學生可不可以加5%"
   ]
  },
  {
   "cell_type": "code",
   "execution_count": 9,
   "metadata": {},
   "outputs": [
    {
     "name": "stdout",
     "output_type": "stream",
     "text": [
      "學生總分數是116\n"
     ]
    }
   ],
   "source": [
    "score:int|float = int (input(\"請輸入學生分數(最高300分)\"))\n",
    "is_add:str = input(\"學生是否符合加分條件？(y,n)\")\n",
    "if is_add == \"y\":\n",
    "    score *= 1.05\n",
    "print(f\"學生總分數是{round(score)}\")"
   ]
  },
  {
   "cell_type": "code",
   "execution_count": 10,
   "metadata": {},
   "outputs": [
    {
     "name": "stdout",
     "output_type": "stream",
     "text": [
      "學生總分數是300\n"
     ]
    }
   ],
   "source": [
    "score:int|float = int (input(\"請輸入學生分數(最高300分)\"))\n",
    "is_add:str = input(\"學生是否符合加分條件？(y,n)\")\n",
    "if is_add == \"y\":\n",
    "    score *= 1.05\n",
    "    if score > 300:\n",
    "        score = 300\n",
    "print(f\"學生總分數是{round(score)}\")"
   ]
  },
  {
   "cell_type": "code",
   "execution_count": 11,
   "metadata": {},
   "outputs": [
    {
     "name": "stdout",
     "output_type": "stream",
     "text": [
      "輸入的分數不可以超過300分\n"
     ]
    }
   ],
   "source": [
    "score:int|float = int (input(\"請輸入學生分數(最高300分)\"))\n",
    "if score <= 300:\n",
    "    is_add:str = input(\"學生是否符合加分條件？(y,n)\")\n",
    "    if is_add == \"y\":\n",
    "        score *= 1.05\n",
    "        if score > 300:\n",
    "            score = 300\n",
    "    print(f\"學生總分數是{round(score)}\")\n",
    "else:\n",
    "    print(\"輸入的分數不可以超過300分\")\n"
   ]
  },
  {
   "cell_type": "code",
   "execution_count": 13,
   "metadata": {},
   "outputs": [
    {
     "name": "stdout",
     "output_type": "stream",
     "text": [
      "輸入格式錯誤\n",
      "應用程式結束\n"
     ]
    }
   ],
   "source": [
    "try:\n",
    "    money:int = int(input(\"請輸入金額：\"))\n",
    "    print(money)\n",
    "except ValueError:\n",
    "    print(\"輸入格式錯誤\")\n",
    "print(\"應用程式結束\")"
   ]
  },
  {
   "cell_type": "code",
   "execution_count": 16,
   "metadata": {},
   "outputs": [
    {
     "name": "stdout",
     "output_type": "stream",
     "text": [
      "輸入格式錯誤invalid literal for int() with base 10: '1234fdd31'\n",
      "應用程式結束\n"
     ]
    }
   ],
   "source": [
    "try:\n",
    "    money:int = int(input(\"請輸入金額：\"))\n",
    "    print(money)\n",
    "except Exception as e:\n",
    "    print(f\"輸入格式錯誤{e}\")\n",
    "print(\"應用程式結束\")"
   ]
  }
 ],
 "metadata": {
  "kernelspec": {
   "display_name": "Python 3",
   "language": "python",
   "name": "python3"
  },
  "language_info": {
   "codemirror_mode": {
    "name": "ipython",
    "version": 3
   },
   "file_extension": ".py",
   "mimetype": "text/x-python",
   "name": "python",
   "nbconvert_exporter": "python",
   "pygments_lexer": "ipython3",
   "version": "3.10.14"
  }
 },
 "nbformat": 4,
 "nbformat_minor": 2
}
