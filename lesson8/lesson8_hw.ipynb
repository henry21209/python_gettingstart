{
 "cells": [
  {
   "cell_type": "code",
   "execution_count": 6,
   "metadata": {},
   "outputs": [
    {
     "name": "stdout",
     "output_type": "stream",
     "text": [
      "123, 您的BMI: 24.44\n",
      "您的體重: 過重\n"
     ]
    }
   ],
   "source": [
    "def get_bmi(height,weight):\n",
    "    bmi = weight / (height / 100) ** 2\n",
    "    return bmi\n",
    "def get_status():\n",
    "    if get_bmi(height,weight) < 18.5:\n",
    "        result = '過輕'\n",
    "    elif get_bmi(height,weight) < 24:\n",
    "        result = '正常'\n",
    "    elif get_bmi(height,weight) < 27:\n",
    "        result = '過重'\n",
    "    elif get_bmi(height,weight) < 30:\n",
    "        result = '輕度肥胖'\n",
    "    elif get_bmi(height,weight) < 35:\n",
    "        result = '中度肥胖'\n",
    "    else:\n",
    "        result = '重度肥胖'\n",
    "    print(f'您的體重: {result}')\n",
    "\n",
    "try:\n",
    "    name = input('請輸入姓名:')\n",
    "    height = float(input('請輸入身高(120~230)(cm):')) \n",
    "    if height<120 or height>230:\n",
    "        raise Exception(\"身高必需大於120同時小於230\")    \n",
    "    weight = float(input('請輸入體重(40~170)(kg):'))\n",
    "    if weight<40 or weight>170:\n",
    "        raise Exception(\"體重必需大於40同時小於170\")\n",
    "    print(f'{name}, 您的BMI: {round(get_bmi(height,weight),ndigits=2)}')\n",
    "    #您的體重:正常\n",
    "    \n",
    "except Exception as e:\n",
    "    print(f'錯誤: {e}')\n",
    "    \n",
    "get_status()"
   ]
  }
 ],
 "metadata": {
  "kernelspec": {
   "display_name": "Python 3",
   "language": "python",
   "name": "python3"
  },
  "language_info": {
   "codemirror_mode": {
    "name": "ipython",
    "version": 3
   },
   "file_extension": ".py",
   "mimetype": "text/x-python",
   "name": "python",
   "nbconvert_exporter": "python",
   "pygments_lexer": "ipython3",
   "version": "3.10.14"
  }
 },
 "nbformat": 4,
 "nbformat_minor": 2
}
