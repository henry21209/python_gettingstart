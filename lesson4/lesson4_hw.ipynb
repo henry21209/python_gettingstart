{
 "cells": [
  {
   "cell_type": "code",
   "execution_count": 1,
   "metadata": {},
   "outputs": [
    {
     "name": "stdout",
     "output_type": "stream",
     "text": [
      "梯形的上底5公分,下底5公分,高10公分\n",
      "梯形的面積：50.0平方公分\n"
     ]
    }
   ],
   "source": [
    "up = eval(input(\"請輸入梯形的上底：\"))\n",
    "down = eval(input(\"請輸入梯形的下底：\"))\n",
    "height = eval(input(\"請輸入梯形的高：\"))\n",
    "\n",
    "print(f\"梯形的上底{up}公分,下底{down}公分,高{height}公分\")\n",
    "print(f\"梯形的面積：{(up+down)*height/2}平方公分\")"
   ]
  }
 ],
 "metadata": {
  "kernelspec": {
   "display_name": "Python 3",
   "language": "python",
   "name": "python3"
  },
  "language_info": {
   "codemirror_mode": {
    "name": "ipython",
    "version": 3
   },
   "file_extension": ".py",
   "mimetype": "text/x-python",
   "name": "python",
   "nbconvert_exporter": "python",
   "pygments_lexer": "ipython3",
   "version": "3.10.14"
  }
 },
 "nbformat": 4,
 "nbformat_minor": 2
}
